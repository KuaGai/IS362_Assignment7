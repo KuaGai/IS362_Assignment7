{
 "cells": [
  {
   "cell_type": "code",
   "execution_count": 1,
   "metadata": {},
   "outputs": [],
   "source": [
    "# IS 362 - Assignment 7"
   ]
  },
  {
   "cell_type": "code",
   "execution_count": 4,
   "metadata": {},
   "outputs": [
    {
     "data": {
      "text/html": [
       "<div>\n",
       "<style scoped>\n",
       "    .dataframe tbody tr th:only-of-type {\n",
       "        vertical-align: middle;\n",
       "    }\n",
       "\n",
       "    .dataframe tbody tr th {\n",
       "        vertical-align: top;\n",
       "    }\n",
       "\n",
       "    .dataframe thead th {\n",
       "        text-align: right;\n",
       "    }\n",
       "</style>\n",
       "<table border=\"1\" class=\"dataframe\">\n",
       "  <thead>\n",
       "    <tr style=\"text-align: right;\">\n",
       "      <th></th>\n",
       "      <th>AD ASTRA</th>\n",
       "      <th>The Irishman</th>\n",
       "      <th>Downton Abbey</th>\n",
       "      <th>The Lion King</th>\n",
       "      <th>Joker</th>\n",
       "      <th>Hustlers</th>\n",
       "    </tr>\n",
       "  </thead>\n",
       "  <tbody>\n",
       "    <tr>\n",
       "      <th>Bajrush</th>\n",
       "      <td>4.0</td>\n",
       "      <td>0.0</td>\n",
       "      <td>3.5</td>\n",
       "      <td>3.5</td>\n",
       "      <td>4.0</td>\n",
       "      <td>3.0</td>\n",
       "    </tr>\n",
       "    <tr>\n",
       "      <th>Michael</th>\n",
       "      <td>0.0</td>\n",
       "      <td>4.5</td>\n",
       "      <td>3.5</td>\n",
       "      <td>3.0</td>\n",
       "      <td>4.0</td>\n",
       "      <td>5.0</td>\n",
       "    </tr>\n",
       "    <tr>\n",
       "      <th>Saphi</th>\n",
       "      <td>4.5</td>\n",
       "      <td>0.0</td>\n",
       "      <td>3.5</td>\n",
       "      <td>3.0</td>\n",
       "      <td>3.5</td>\n",
       "      <td>4.5</td>\n",
       "    </tr>\n",
       "    <tr>\n",
       "      <th>Dua</th>\n",
       "      <td>0.0</td>\n",
       "      <td>5.0</td>\n",
       "      <td>4.5</td>\n",
       "      <td>4.5</td>\n",
       "      <td>0.0</td>\n",
       "      <td>0.0</td>\n",
       "    </tr>\n",
       "    <tr>\n",
       "      <th>Rita</th>\n",
       "      <td>4.5</td>\n",
       "      <td>3.5</td>\n",
       "      <td>0.0</td>\n",
       "      <td>3.5</td>\n",
       "      <td>4.0</td>\n",
       "      <td>4.0</td>\n",
       "    </tr>\n",
       "  </tbody>\n",
       "</table>\n",
       "</div>"
      ],
      "text/plain": [
       "         AD ASTRA  The Irishman  Downton Abbey  The Lion King  Joker  Hustlers\n",
       "Bajrush       4.0           0.0            3.5            3.5    4.0       3.0\n",
       "Michael       0.0           4.5            3.5            3.0    4.0       5.0\n",
       "Saphi         4.5           0.0            3.5            3.0    3.5       4.5\n",
       "Dua           0.0           5.0            4.5            4.5    0.0       0.0\n",
       "Rita          4.5           3.5            0.0            3.5    4.0       4.0"
      ]
     },
     "execution_count": 4,
     "metadata": {},
     "output_type": "execute_result"
    }
   ],
   "source": [
    "# importing pandas, numpy and matplotlib\n",
    "import pandas as pd\n",
    "import numpy as np\n",
    "import matplotlib.pyplot as plt\n",
    "%matplotlib inline\n",
    "\n",
    "reviews = pd.read_csv('moviesdb.csv', index_col = 0)  # reading data from csv file\n",
    "reviews "
   ]
  },
  {
   "cell_type": "markdown",
   "metadata": {},
   "source": [
    "*Let's tidy the data little bit. Replacing NaN value to 0.0 *"
   ]
  },
  {
   "cell_type": "code",
   "execution_count": 5,
   "metadata": {},
   "outputs": [
    {
     "data": {
      "text/html": [
       "<div>\n",
       "<style scoped>\n",
       "    .dataframe tbody tr th:only-of-type {\n",
       "        vertical-align: middle;\n",
       "    }\n",
       "\n",
       "    .dataframe tbody tr th {\n",
       "        vertical-align: top;\n",
       "    }\n",
       "\n",
       "    .dataframe thead th {\n",
       "        text-align: right;\n",
       "    }\n",
       "</style>\n",
       "<table border=\"1\" class=\"dataframe\">\n",
       "  <thead>\n",
       "    <tr style=\"text-align: right;\">\n",
       "      <th></th>\n",
       "      <th>AD ASTRA</th>\n",
       "      <th>The Irishman</th>\n",
       "      <th>Downton Abbey</th>\n",
       "      <th>The Lion King</th>\n",
       "      <th>Joker</th>\n",
       "      <th>Hustlers</th>\n",
       "    </tr>\n",
       "  </thead>\n",
       "  <tbody>\n",
       "    <tr>\n",
       "      <th>Bajrush</th>\n",
       "      <td>4.0</td>\n",
       "      <td>0.0</td>\n",
       "      <td>3.5</td>\n",
       "      <td>3.5</td>\n",
       "      <td>4.0</td>\n",
       "      <td>3.0</td>\n",
       "    </tr>\n",
       "    <tr>\n",
       "      <th>Michael</th>\n",
       "      <td>0.0</td>\n",
       "      <td>4.5</td>\n",
       "      <td>3.5</td>\n",
       "      <td>3.0</td>\n",
       "      <td>4.0</td>\n",
       "      <td>5.0</td>\n",
       "    </tr>\n",
       "    <tr>\n",
       "      <th>Saphi</th>\n",
       "      <td>4.5</td>\n",
       "      <td>0.0</td>\n",
       "      <td>3.5</td>\n",
       "      <td>3.0</td>\n",
       "      <td>3.5</td>\n",
       "      <td>4.5</td>\n",
       "    </tr>\n",
       "    <tr>\n",
       "      <th>Dua</th>\n",
       "      <td>0.0</td>\n",
       "      <td>5.0</td>\n",
       "      <td>4.5</td>\n",
       "      <td>4.5</td>\n",
       "      <td>0.0</td>\n",
       "      <td>0.0</td>\n",
       "    </tr>\n",
       "    <tr>\n",
       "      <th>Rita</th>\n",
       "      <td>4.5</td>\n",
       "      <td>3.5</td>\n",
       "      <td>0.0</td>\n",
       "      <td>3.5</td>\n",
       "      <td>4.0</td>\n",
       "      <td>4.0</td>\n",
       "    </tr>\n",
       "  </tbody>\n",
       "</table>\n",
       "</div>"
      ],
      "text/plain": [
       "         AD ASTRA  The Irishman  Downton Abbey  The Lion King  Joker  Hustlers\n",
       "Bajrush       4.0           0.0            3.5            3.5    4.0       3.0\n",
       "Michael       0.0           4.5            3.5            3.0    4.0       5.0\n",
       "Saphi         4.5           0.0            3.5            3.0    3.5       4.5\n",
       "Dua           0.0           5.0            4.5            4.5    0.0       0.0\n",
       "Rita          4.5           3.5            0.0            3.5    4.0       4.0"
      ]
     },
     "execution_count": 5,
     "metadata": {},
     "output_type": "execute_result"
    }
   ],
   "source": [
    "remove_null = reviews.fillna(0.0)\n",
    "remove_null"
   ]
  },
  {
   "cell_type": "markdown",
   "metadata": {},
   "source": [
    "*Exporting cleaned data into new csv file so we can keep the original data and cleaned data. *"
   ]
  },
  {
   "cell_type": "code",
   "execution_count": 6,
   "metadata": {},
   "outputs": [
    {
     "data": {
      "text/html": [
       "<div>\n",
       "<style scoped>\n",
       "    .dataframe tbody tr th:only-of-type {\n",
       "        vertical-align: middle;\n",
       "    }\n",
       "\n",
       "    .dataframe tbody tr th {\n",
       "        vertical-align: top;\n",
       "    }\n",
       "\n",
       "    .dataframe thead th {\n",
       "        text-align: right;\n",
       "    }\n",
       "</style>\n",
       "<table border=\"1\" class=\"dataframe\">\n",
       "  <thead>\n",
       "    <tr style=\"text-align: right;\">\n",
       "      <th></th>\n",
       "      <th>AD ASTRA</th>\n",
       "      <th>The Irishman</th>\n",
       "      <th>Downton Abbey</th>\n",
       "      <th>The Lion King</th>\n",
       "      <th>Joker</th>\n",
       "      <th>Hustlers</th>\n",
       "    </tr>\n",
       "  </thead>\n",
       "  <tbody>\n",
       "    <tr>\n",
       "      <th>Bajrush</th>\n",
       "      <td>4.0</td>\n",
       "      <td>0.0</td>\n",
       "      <td>3.5</td>\n",
       "      <td>3.5</td>\n",
       "      <td>4.0</td>\n",
       "      <td>3.0</td>\n",
       "    </tr>\n",
       "    <tr>\n",
       "      <th>Michael</th>\n",
       "      <td>0.0</td>\n",
       "      <td>4.5</td>\n",
       "      <td>3.5</td>\n",
       "      <td>3.0</td>\n",
       "      <td>4.0</td>\n",
       "      <td>5.0</td>\n",
       "    </tr>\n",
       "    <tr>\n",
       "      <th>Saphi</th>\n",
       "      <td>4.5</td>\n",
       "      <td>0.0</td>\n",
       "      <td>3.5</td>\n",
       "      <td>3.0</td>\n",
       "      <td>3.5</td>\n",
       "      <td>4.5</td>\n",
       "    </tr>\n",
       "    <tr>\n",
       "      <th>Dua</th>\n",
       "      <td>0.0</td>\n",
       "      <td>5.0</td>\n",
       "      <td>4.5</td>\n",
       "      <td>4.5</td>\n",
       "      <td>0.0</td>\n",
       "      <td>0.0</td>\n",
       "    </tr>\n",
       "    <tr>\n",
       "      <th>Rita</th>\n",
       "      <td>4.5</td>\n",
       "      <td>3.5</td>\n",
       "      <td>0.0</td>\n",
       "      <td>3.5</td>\n",
       "      <td>4.0</td>\n",
       "      <td>4.0</td>\n",
       "    </tr>\n",
       "  </tbody>\n",
       "</table>\n",
       "</div>"
      ],
      "text/plain": [
       "         AD ASTRA  The Irishman  Downton Abbey  The Lion King  Joker  Hustlers\n",
       "Bajrush       4.0           0.0            3.5            3.5    4.0       3.0\n",
       "Michael       0.0           4.5            3.5            3.0    4.0       5.0\n",
       "Saphi         4.5           0.0            3.5            3.0    3.5       4.5\n",
       "Dua           0.0           5.0            4.5            4.5    0.0       0.0\n",
       "Rita          4.5           3.5            0.0            3.5    4.0       4.0"
      ]
     },
     "execution_count": 6,
     "metadata": {},
     "output_type": "execute_result"
    }
   ],
   "source": [
    "remove_null.to_csv('m_reviews.csv')\n",
    "ratings = pd.read_csv('m_reviews.csv', index_col = 0)\n",
    "ratings"
   ]
  },
  {
   "cell_type": "markdown",
   "metadata": {},
   "source": [
    "Since data is already cleaned up, we can perform our analysis to find out average ratings of each movie by each reviewer."
   ]
  },
  {
   "cell_type": "markdown",
   "metadata": {},
   "source": [
    "# Displaying average rating of each reviewer"
   ]
  },
  {
   "cell_type": "code",
   "execution_count": 7,
   "metadata": {},
   "outputs": [
    {
     "data": {
      "text/plain": [
       "AD ASTRA         2.6\n",
       "The Irishman     2.6\n",
       "Downton Abbey    3.0\n",
       "The Lion King    3.5\n",
       "Joker            3.1\n",
       "Hustlers         3.3\n",
       "dtype: float64"
      ]
     },
     "execution_count": 7,
     "metadata": {},
     "output_type": "execute_result"
    }
   ],
   "source": [
    "ratings.mean(axis = 0).round(2)"
   ]
  },
  {
   "cell_type": "markdown",
   "metadata": {},
   "source": [
    "# NORMALIZED DATA\n",
    "\n",
    "Database normalization is process used to organize a database into tables and columns. The idea is that a table should be about a specific topic and that only those columns which supports tathat topics are included. These are the three main reasons we normalize the data.\n",
    "\n",
    "minimize duplicate data\n",
    "minimize or avoid data modification issues\n",
    "to simplify the queries\n",
    "Normalization, which scales all numeric variables in the range [0,1]. One possible formula is given below:\n",
    "\n",
    "*\n",
    "\n",
    "normalized = (x - x.min()) / (x.max() - x.min())\n",
    "*"
   ]
  },
  {
   "cell_type": "code",
   "execution_count": 8,
   "metadata": {},
   "outputs": [
    {
     "data": {
      "text/html": [
       "<div>\n",
       "<style scoped>\n",
       "    .dataframe tbody tr th:only-of-type {\n",
       "        vertical-align: middle;\n",
       "    }\n",
       "\n",
       "    .dataframe tbody tr th {\n",
       "        vertical-align: top;\n",
       "    }\n",
       "\n",
       "    .dataframe thead th {\n",
       "        text-align: right;\n",
       "    }\n",
       "</style>\n",
       "<table border=\"1\" class=\"dataframe\">\n",
       "  <thead>\n",
       "    <tr style=\"text-align: right;\">\n",
       "      <th></th>\n",
       "      <th>AD ASTRA</th>\n",
       "      <th>The Irishman</th>\n",
       "      <th>Downton Abbey</th>\n",
       "      <th>The Lion King</th>\n",
       "      <th>Joker</th>\n",
       "      <th>Hustlers</th>\n",
       "    </tr>\n",
       "  </thead>\n",
       "  <tbody>\n",
       "    <tr>\n",
       "      <th>Bajrush</th>\n",
       "      <td>0.89</td>\n",
       "      <td>0.0</td>\n",
       "      <td>0.78</td>\n",
       "      <td>0.33</td>\n",
       "      <td>1.00</td>\n",
       "      <td>0.6</td>\n",
       "    </tr>\n",
       "    <tr>\n",
       "      <th>Michael</th>\n",
       "      <td>0.00</td>\n",
       "      <td>0.9</td>\n",
       "      <td>0.78</td>\n",
       "      <td>0.00</td>\n",
       "      <td>1.00</td>\n",
       "      <td>1.0</td>\n",
       "    </tr>\n",
       "    <tr>\n",
       "      <th>Saphi</th>\n",
       "      <td>1.00</td>\n",
       "      <td>0.0</td>\n",
       "      <td>0.78</td>\n",
       "      <td>0.00</td>\n",
       "      <td>0.88</td>\n",
       "      <td>0.9</td>\n",
       "    </tr>\n",
       "    <tr>\n",
       "      <th>Dua</th>\n",
       "      <td>0.00</td>\n",
       "      <td>1.0</td>\n",
       "      <td>1.00</td>\n",
       "      <td>1.00</td>\n",
       "      <td>0.00</td>\n",
       "      <td>0.0</td>\n",
       "    </tr>\n",
       "    <tr>\n",
       "      <th>Rita</th>\n",
       "      <td>1.00</td>\n",
       "      <td>0.7</td>\n",
       "      <td>0.00</td>\n",
       "      <td>0.33</td>\n",
       "      <td>1.00</td>\n",
       "      <td>0.8</td>\n",
       "    </tr>\n",
       "  </tbody>\n",
       "</table>\n",
       "</div>"
      ],
      "text/plain": [
       "         AD ASTRA  The Irishman  Downton Abbey  The Lion King  Joker  Hustlers\n",
       "Bajrush      0.89           0.0           0.78           0.33   1.00       0.6\n",
       "Michael      0.00           0.9           0.78           0.00   1.00       1.0\n",
       "Saphi        1.00           0.0           0.78           0.00   0.88       0.9\n",
       "Dua          0.00           1.0           1.00           1.00   0.00       0.0\n",
       "Rita         1.00           0.7           0.00           0.33   1.00       0.8"
      ]
     },
     "execution_count": 8,
     "metadata": {},
     "output_type": "execute_result"
    }
   ],
   "source": [
    "data_normalized = (ratings - ratings.min())/ (ratings.max()- ratings.min())\n",
    "data_normalized.round(2)"
   ]
  },
  {
   "cell_type": "markdown",
   "metadata": {},
   "source": [
    "# Displaying normalized data average rating of reviewer"
   ]
  },
  {
   "cell_type": "code",
   "execution_count": 9,
   "metadata": {},
   "outputs": [
    {
     "data": {
      "text/plain": [
       "Bajrush    0.600000\n",
       "Michael    0.612963\n",
       "Saphi      0.592130\n",
       "Dua        0.500000\n",
       "Rita       0.638889\n",
       "dtype: float64"
      ]
     },
     "execution_count": 9,
     "metadata": {},
     "output_type": "execute_result"
    },
    {
     "data": {
      "image/png": "[encoded data removed]",
      "text/plain": [
       "<Figure size 432x288 with 1 Axes>"
      ]
     },
     "metadata": {
      "needs_background": "light"
     },
     "output_type": "display_data"
    }
   ],
   "source": [
    "data_normalized.mean(axis = 1).plot()\n",
    "data_normalized.mean(axis = 1)"
   ]
  },
  {
   "cell_type": "markdown",
   "metadata": {},
   "source": [
    "### Displaying normalized data average rating of each movie"
   ]
  },
  {
   "cell_type": "code",
   "execution_count": 10,
   "metadata": {},
   "outputs": [
    {
     "data": {
      "text/plain": [
       "AD ASTRA         0.577778\n",
       "The Irishman     0.520000\n",
       "Downton Abbey    0.666667\n",
       "The Lion King    0.333333\n",
       "Joker            0.775000\n",
       "Hustlers         0.660000\n",
       "dtype: float64"
      ]
     },
     "execution_count": 10,
     "metadata": {},
     "output_type": "execute_result"
    },
    {
     "data": {
      "image/png": "[encoded data removed]",
      "text/plain": [
       "<Figure size 432x288 with 1 Axes>"
      ]
     },
     "metadata": {
      "needs_background": "light"
     },
     "output_type": "display_data"
    }
   ],
   "source": [
    "data_normalized.mean(axis = 0).plot()\n",
    "data_normalized.mean(axis = 0)"
   ]
  },
  {
   "cell_type": "markdown",
   "metadata": {},
   "source": [
    "# STANDARDIZED DATA\n",
    "Standardization data is another data preprocessign method which palys a curucial role in data mining. Standardized data helps center the data around 0 and to scale in respect to standard deviation. Data can be standardized using following formula.\n",
    "\n",
    "*\n",
    "\n",
    "standardized = (x - x.mean()) / x.std()\n",
    "*"
   ]
  },
  {
   "cell_type": "code",
   "execution_count": 11,
   "metadata": {},
   "outputs": [
    {
     "data": {
      "text/html": [
       "<div>\n",
       "<style scoped>\n",
       "    .dataframe tbody tr th:only-of-type {\n",
       "        vertical-align: middle;\n",
       "    }\n",
       "\n",
       "    .dataframe tbody tr th {\n",
       "        vertical-align: top;\n",
       "    }\n",
       "\n",
       "    .dataframe thead th {\n",
       "        text-align: right;\n",
       "    }\n",
       "</style>\n",
       "<table border=\"1\" class=\"dataframe\">\n",
       "  <thead>\n",
       "    <tr style=\"text-align: right;\">\n",
       "      <th></th>\n",
       "      <th>AD ASTRA</th>\n",
       "      <th>The Irishman</th>\n",
       "      <th>Downton Abbey</th>\n",
       "      <th>The Lion King</th>\n",
       "      <th>Joker</th>\n",
       "      <th>Hustlers</th>\n",
       "    </tr>\n",
       "  </thead>\n",
       "  <tbody>\n",
       "    <tr>\n",
       "      <th>Bajrush</th>\n",
       "      <td>0.587686</td>\n",
       "      <td>-1.068142</td>\n",
       "      <td>0.288675</td>\n",
       "      <td>0.000000</td>\n",
       "      <td>0.515339</td>\n",
       "      <td>-0.150946</td>\n",
       "    </tr>\n",
       "    <tr>\n",
       "      <th>Michael</th>\n",
       "      <td>-1.091416</td>\n",
       "      <td>0.780566</td>\n",
       "      <td>0.288675</td>\n",
       "      <td>-0.816497</td>\n",
       "      <td>0.515339</td>\n",
       "      <td>0.855363</td>\n",
       "    </tr>\n",
       "    <tr>\n",
       "      <th>Saphi</th>\n",
       "      <td>0.797573</td>\n",
       "      <td>-1.068142</td>\n",
       "      <td>0.288675</td>\n",
       "      <td>-0.816497</td>\n",
       "      <td>0.229039</td>\n",
       "      <td>0.603786</td>\n",
       "    </tr>\n",
       "    <tr>\n",
       "      <th>Dua</th>\n",
       "      <td>-1.091416</td>\n",
       "      <td>0.985978</td>\n",
       "      <td>0.866025</td>\n",
       "      <td>1.632993</td>\n",
       "      <td>-1.775055</td>\n",
       "      <td>-1.660410</td>\n",
       "    </tr>\n",
       "    <tr>\n",
       "      <th>Rita</th>\n",
       "      <td>0.797573</td>\n",
       "      <td>0.369742</td>\n",
       "      <td>-1.732051</td>\n",
       "      <td>0.000000</td>\n",
       "      <td>0.515339</td>\n",
       "      <td>0.352208</td>\n",
       "    </tr>\n",
       "  </tbody>\n",
       "</table>\n",
       "</div>"
      ],
      "text/plain": [
       "         AD ASTRA  The Irishman  Downton Abbey  The Lion King     Joker  \\\n",
       "Bajrush  0.587686     -1.068142       0.288675       0.000000  0.515339   \n",
       "Michael -1.091416      0.780566       0.288675      -0.816497  0.515339   \n",
       "Saphi    0.797573     -1.068142       0.288675      -0.816497  0.229039   \n",
       "Dua     -1.091416      0.985978       0.866025       1.632993 -1.775055   \n",
       "Rita     0.797573      0.369742      -1.732051       0.000000  0.515339   \n",
       "\n",
       "         Hustlers  \n",
       "Bajrush -0.150946  \n",
       "Michael  0.855363  \n",
       "Saphi    0.603786  \n",
       "Dua     -1.660410  \n",
       "Rita     0.352208  "
      ]
     },
     "execution_count": 11,
     "metadata": {},
     "output_type": "execute_result"
    }
   ],
   "source": [
    "data_standardized = (ratings - ratings.mean())/ratings.std()\n",
    "data_standardized"
   ]
  },
  {
   "cell_type": "markdown",
   "metadata": {},
   "source": [
    "# Displaying standardized data average rating of reviewer"
   ]
  },
  {
   "cell_type": "code",
   "execution_count": 12,
   "metadata": {},
   "outputs": [
    {
     "data": {
      "text/plain": [
       "Bajrush    0.028768\n",
       "Michael    0.088672\n",
       "Saphi      0.005739\n",
       "Dua       -0.173648\n",
       "Rita       0.050468\n",
       "dtype: float64"
      ]
     },
     "execution_count": 12,
     "metadata": {},
     "output_type": "execute_result"
    },
    {
     "data": {
      "image/png": "[encoded data removed]",
      "text/plain": [
       "<Figure size 432x288 with 1 Axes>"
      ]
     },
     "metadata": {
      "needs_background": "light"
     },
     "output_type": "display_data"
    }
   ],
   "source": [
    "data_standardized.mean(axis=1).plot()\n",
    "data_standardized.mean(axis=1)"
   ]
  },
  {
   "cell_type": "markdown",
   "metadata": {},
   "source": [
    "# Displaying standardized data average rating of reviewer"
   ]
  },
  {
   "cell_type": "code",
   "execution_count": 13,
   "metadata": {},
   "outputs": [
    {
     "data": {
      "text/plain": [
       "AD ASTRA        -2.220446e-17\n",
       "The Irishman    -1.110223e-17\n",
       "Downton Abbey    4.440892e-17\n",
       "The Lion King    0.000000e+00\n",
       "Joker           -4.440892e-17\n",
       "Hustlers         7.771561e-17\n",
       "dtype: float64"
      ]
     },
     "execution_count": 13,
     "metadata": {},
     "output_type": "execute_result"
    },
    {
     "data": {
      "image/png": "[encoded data removed]",
      "text/plain": [
       "<Figure size 432x288 with 1 Axes>"
      ]
     },
     "metadata": {
      "needs_background": "light"
     },
     "output_type": "display_data"
    }
   ],
   "source": [
    "data_standardized.mean(axis=0).plot()\n",
    "data_standardized.mean(axis=0)"
   ]
  }
 ],
 "metadata": {
  "kernelspec": {
   "display_name": "Python 3",
   "language": "python",
   "name": "python3"
  },
  "language_info": {
   "codemirror_mode": {
    "name": "ipython",
    "version": 3
   },
   "file_extension": ".py",
   "mimetype": "text/x-python",
   "name": "python",
   "nbconvert_exporter": "python",
   "pygments_lexer": "ipython3",
   "version": "3.7.3"
  }
 },
 "nbformat": 4,
 "nbformat_minor": 2
}
